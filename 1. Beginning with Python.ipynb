{
  "cells": [
    {
      "cell_type": "markdown",
      "metadata": {
        "id": "ZQYkrjBb0MaS"
      },
      "source": [
        "<div class=\"alert alert-block alert-info\" style=\"background-color: #301E40; border: 0px; -moz-border-radius: 10px; -webkit-border-radius: 10px;\">\n",
        "<br/><br/>\n",
        "<h1 style=\"font-size: 45px; color: white; align: center;\"><center>\n",
        "<img src=\"https://raw.githubusercontent.com/HumbleData/beginners-data-workshop/master/media/humble-data-logo-white-transparent.png\" width=\"250px\" /><br/><br/>\n",
        "Introduction to Python\n",
        "</center></h1>\n",
        "</div>"
      ]
    },
    {
      "cell_type": "markdown",
      "metadata": {
        "id": "ifkTGZr40MaW"
      },
      "source": [
        "## Welcome to learning Python!\n",
        "\n",
        "These notebooks contain a mix of text and code. This makes it easy to experiment with code and keep documentation like this in the same place. Another nice thing about these notebooks is that you can execute each cell individually and therefore work incrementally with your code. If you want to execute a cell, you can press the \"►\" button above when you have highlighted the cell. Alternatively, you can hit **Shift + Enter** to execute and progress to next cell or alternatively **Ctrl + Enter** (Win) or **Cmd + Enter** (Mac).\n",
        "\n",
        "We will walk you through different aspects of the Python language interactively. Take your time to experiment with it if you like and don't hesitate to ask or Google things. One of the first lessons in programming is using the documentation and information shared by other programmers. Jupyter has another trick, where you can put your cursor into the brackets of a function call such as `print()` and hit **Shift + Tab**. This will let you see the documentation of a function directly in the notebook (*pro-tip*: you can hit it up to four times for different effects).\n",
        "\n",
        "As for Python itself, one of the big strengths of Python is the extensibility. It has a surprising amount of functionality directly within the core language, however, you can `import` almost arbitrary code others make available as libraries. Below you can see a special import that shows you the \"Zen of Python\" a set of guidelines that could guide your programming journey.\""
      ]
    },
    {
      "metadata": {
        "id": "B1luKDnh0MaX",
        "outputId": "f6d19e1a-bb4d-4a66-ecd6-02a29f716562",
        "colab": {
          "base_uri": "https://localhost:8080/"
        }
      },
      "cell_type": "code",
      "outputs": [
        {
          "output_type": "stream",
          "name": "stdout",
          "text": [
            "The Zen of Python, by Tim Peters\n",
            "\n",
            "Beautiful is better than ugly.\n",
            "Explicit is better than implicit.\n",
            "Simple is better than complex.\n",
            "Complex is better than complicated.\n",
            "Flat is better than nested.\n",
            "Sparse is better than dense.\n",
            "Readability counts.\n",
            "Special cases aren't special enough to break the rules.\n",
            "Although practicality beats purity.\n",
            "Errors should never pass silently.\n",
            "Unless explicitly silenced.\n",
            "In the face of ambiguity, refuse the temptation to guess.\n",
            "There should be one-- and preferably only one --obvious way to do it.\n",
            "Although that way may not be obvious at first unless you're Dutch.\n",
            "Now is better than never.\n",
            "Although never is often better than *right* now.\n",
            "If the implementation is hard to explain, it's a bad idea.\n",
            "If the implementation is easy to explain, it may be a good idea.\n",
            "Namespaces are one honking great idea -- let's do more of those!\n"
          ]
        }
      ],
      "execution_count": 1,
      "source": [
        "# We can use comments to document our code in a coding cell.\n",
        "import this  # Zen of Python"
      ]
    },
    {
      "cell_type": "code",
      "source": [
        "!git clone https://github.com/HumbleData/beginners-data-workshop.git\n",
        "!cp -r beginners-data-workshop/media/ .\n",
        "!cp -r beginners-data-workshop/data/ .\n",
        "!cp -r beginners-data-workshop/solutions/ .\n",
        "!rm -r beginners-data-workshop/"
      ],
      "metadata": {
        "id": "qrbakows2Vth",
        "outputId": "a93bc936-de3d-41a3-d3e4-1444c8a49e56",
        "colab": {
          "base_uri": "https://localhost:8080/"
        }
      },
      "execution_count": 14,
      "outputs": [
        {
          "output_type": "stream",
          "name": "stdout",
          "text": [
            "Cloning into 'beginners-data-workshop'...\n",
            "remote: Enumerating objects: 947, done.\u001b[K\n",
            "remote: Counting objects: 100% (939/939), done.\u001b[K\n",
            "remote: Compressing objects: 100% (370/370), done.\u001b[K\n",
            "remote: Total 947 (delta 432), reused 868 (delta 389), pack-reused 8 (from 1)\u001b[K\n",
            "Receiving objects: 100% (947/947), 4.58 MiB | 23.33 MiB/s, done.\n",
            "Resolving deltas: 100% (432/432), done.\n"
          ]
        }
      ]
    },
    {
      "metadata": {
        "id": "CDuX8dk-0Mab"
      },
      "cell_type": "markdown",
      "source": [
        "**--> Simple is better than complex.**  \n",
        "It is really easy to print ***Hello World*** in Python:"
      ]
    },
    {
      "metadata": {
        "id": "Si74ilPD0Mad",
        "outputId": "74522edc-3655-44ab-8ce3-b0a543f3a76a",
        "colab": {
          "base_uri": "https://localhost:8080/"
        }
      },
      "cell_type": "code",
      "outputs": [
        {
          "output_type": "stream",
          "name": "stdout",
          "text": [
            "Hello World!\n"
          ]
        }
      ],
      "execution_count": 2,
      "source": [
        "print('Hello World!')"
      ]
    },
    {
      "metadata": {
        "id": "EnFszSnE0Maf"
      },
      "cell_type": "markdown",
      "source": [
        "**PEP 8** is Python's style guide. You can find it here:\n",
        "https://www.python.org/dev/peps/pep-0008/\n",
        "\n",
        "It is good to know about, but when you become a professional programmer there are programs called a \"linter\" that will help you adhere to PEP 8."
      ]
    },
    {
      "metadata": {
        "id": "eTHCq78_0Mah"
      },
      "cell_type": "markdown",
      "source": [
        "<div class=\"alert alert-block alert-warning\" style=\"padding: 0px; padding-left: 20px; padding-top: 5px;\"><h2 style=\"color: #301E40\">\n",
        "Variables\n",
        "</h2><br>\n",
        "</div>"
      ]
    },
    {
      "metadata": {
        "id": "ZQMK9Pki0Maj"
      },
      "cell_type": "markdown",
      "source": [
        "In programming it's very useful to store values. Accessing values through names is called a variable. Python is very user-friendly in that it will let you store most things in a variable, without making space in the computer's space explicitly. Moreover, computers need to differentiate between the type of data, such as, `5` being an integer and `'Hello'` being a string, but Python attempts to handle these intuitively for you. You will learn about the different types in the following sections!\n",
        "\n",
        "**Python is an object oriented programming language. You do not need to declare variables (or their types) before using them as every variable in Python is an object.**"
      ]
    },
    {
      "metadata": {
        "id": "xQF81EF90Mak"
      },
      "cell_type": "code",
      "outputs": [],
      "execution_count": 3,
      "source": [
        "name = 'Sandrine'"
      ]
    },
    {
      "metadata": {
        "id": "KjlO2D050Mal",
        "outputId": "3401b848-06a5-44d7-9992-5e75e9104b00",
        "colab": {
          "base_uri": "https://localhost:8080/"
        }
      },
      "cell_type": "code",
      "outputs": [
        {
          "output_type": "stream",
          "name": "stdout",
          "text": [
            "Sandrine\n"
          ]
        }
      ],
      "execution_count": 4,
      "source": [
        "print(name)"
      ]
    },
    {
      "metadata": {
        "id": "gtulj_MT0Mal"
      },
      "cell_type": "markdown",
      "source": [
        "Moreover, variables can easily be updated. Try it out below!"
      ]
    },
    {
      "metadata": {
        "id": "2x1iUMFw0Mam"
      },
      "cell_type": "markdown",
      "source": [
        "---\n",
        "\n",
        "***Note***: when you see cells that starts with `# !cat` means that it is a cell that can give you ***a*** solution. Remember there can be more than one solution to a problem in programming!\n",
        "\n",
        "If you would like to see the solution, you will have to remove the `#` using **Ctrl + /** (Windows) or **Cmd + /** (macOS) and then run the cell.\n",
        "\n",
        "Try solving it yourself before getting the solution.\n",
        "\n",
        "\n",
        "---"
      ]
    },
    {
      "metadata": {
        "id": "iCAyg8OE0Mam"
      },
      "cell_type": "markdown",
      "source": [
        ">Assign another string to the variable 'name' and print this variable"
      ]
    },
    {
      "metadata": {
        "id": "17Qc-dNF0Mam",
        "outputId": "ce73f362-fb49-4e5d-9ff4-2bcfd95dfbb7",
        "colab": {
          "base_uri": "https://localhost:8080/"
        }
      },
      "cell_type": "code",
      "outputs": [
        {
          "output_type": "stream",
          "name": "stdout",
          "text": [
            "pycon\n"
          ]
        }
      ],
      "execution_count": 6,
      "source": [
        "name = \"pycon\"\n",
        "print(name)"
      ]
    },
    {
      "metadata": {
        "id": "99ZLsucU0Mam",
        "outputId": "75d67cbe-2cc6-4fb3-f056-76c82b88e29c",
        "colab": {
          "base_uri": "https://localhost:8080/"
        }
      },
      "cell_type": "code",
      "outputs": [
        {
          "output_type": "stream",
          "name": "stdout",
          "text": [
            "cat: solutions/01_01.py: No such file or directory\n"
          ]
        }
      ],
      "execution_count": 12,
      "source": [
        "!cat solutions/01_01.py"
      ]
    },
    {
      "metadata": {
        "id": "axvFFigK0Mam"
      },
      "cell_type": "markdown",
      "source": [
        "**!!! Variable can change type when re-assigned.**"
      ]
    },
    {
      "metadata": {
        "id": "E_ZiEInY0Mam"
      },
      "cell_type": "markdown",
      "source": [
        ">Assign a number (without quotes) to the variable 'name' and print this variable"
      ]
    },
    {
      "metadata": {
        "id": "L_oR49H_0Man",
        "outputId": "5ba516f8-7b39-4834-a7f0-8a0176d19db8",
        "colab": {
          "base_uri": "https://localhost:8080/"
        }
      },
      "cell_type": "code",
      "outputs": [
        {
          "output_type": "stream",
          "name": "stdout",
          "text": [
            "2\n"
          ]
        }
      ],
      "execution_count": 8,
      "source": [
        "name = 2\n",
        "print(name)"
      ]
    },
    {
      "metadata": {
        "id": "OGen9YvZ0Man",
        "outputId": "c42d5dde-bde3-4e29-a41e-059a93b512ab",
        "colab": {
          "base_uri": "https://localhost:8080/"
        }
      },
      "cell_type": "code",
      "outputs": [
        {
          "output_type": "stream",
          "name": "stdout",
          "text": [
            "name = 8\n",
            "print(name)"
          ]
        }
      ],
      "execution_count": 15,
      "source": [
        "!cat solutions/01_02.py"
      ]
    },
    {
      "metadata": {
        "id": "1QKqveF80Man"
      },
      "cell_type": "markdown",
      "source": [
        "---"
      ]
    },
    {
      "metadata": {
        "id": "d0Ab2Yt00Man"
      },
      "cell_type": "markdown",
      "source": [
        "<div class=\"alert alert-block alert-warning\" style=\"padding: 0px; padding-left: 20px; padding-top: 5px;\"><h2 style=\"color: #301E40\">\n",
        "Strings\n",
        "</h2><br>\n",
        "</div>"
      ]
    },
    {
      "metadata": {
        "id": "MnibboA80Man"
      },
      "cell_type": "markdown",
      "source": [
        "A string always begins and ends with a single ( ' ) or double ( \\\" ) quotes. There is no difference, except if there is an apostrophe ( ' ) inside the string."
      ]
    },
    {
      "metadata": {
        "id": "bZVsW2gz0Man",
        "outputId": "e13555e7-1aa4-4c78-ac82-82c625438b97",
        "colab": {
          "base_uri": "https://localhost:8080/",
          "height": 35
        }
      },
      "cell_type": "code",
      "outputs": [
        {
          "output_type": "execute_result",
          "data": {
            "text/plain": [
              "'Beginners Data Workshop'"
            ],
            "application/vnd.google.colaboratory.intrinsic+json": {
              "type": "string"
            }
          },
          "metadata": {},
          "execution_count": 16
        }
      ],
      "execution_count": 16,
      "source": [
        "'Beginners Data Workshop'"
      ]
    },
    {
      "metadata": {
        "id": "rs2JXWbj0Man",
        "outputId": "c58e83ad-b6da-497a-b181-fc29a953201b",
        "colab": {
          "base_uri": "https://localhost:8080/",
          "height": 35
        }
      },
      "cell_type": "code",
      "outputs": [
        {
          "output_type": "execute_result",
          "data": {
            "text/plain": [
              "\"Beginner's Data Workshop\""
            ],
            "application/vnd.google.colaboratory.intrinsic+json": {
              "type": "string"
            }
          },
          "metadata": {},
          "execution_count": 17
        }
      ],
      "execution_count": 17,
      "source": [
        "\"Beginner's Data Workshop\""
      ]
    },
    {
      "metadata": {
        "id": "XaVz7Cei0Man"
      },
      "cell_type": "markdown",
      "source": [
        ">Write *I'm enjoying this workshop!* using double quotes, and then single quotes."
      ]
    },
    {
      "metadata": {
        "id": "87gBCKy-0Mao",
        "outputId": "1b88b76f-fe54-4e44-a6a8-3bc851c09a47",
        "colab": {
          "base_uri": "https://localhost:8080/",
          "height": 35
        }
      },
      "cell_type": "code",
      "outputs": [
        {
          "output_type": "execute_result",
          "data": {
            "text/plain": [
              "\"While I'md enjoying this workshop! using double quotes, and then single quotes.\""
            ],
            "application/vnd.google.colaboratory.intrinsic+json": {
              "type": "string"
            }
          },
          "metadata": {},
          "execution_count": 18
        }
      ],
      "execution_count": 18,
      "source": [
        "# double quotes\n",
        "\"I'm enjoying this workshop! using double quotes, and then single quotes.\"\n"
      ]
    },
    {
      "metadata": {
        "id": "QlcXseKe0Mao",
        "outputId": "076635b4-2223-4d96-95dd-f8f43aeeba29",
        "colab": {
          "base_uri": "https://localhost:8080/"
        }
      },
      "cell_type": "code",
      "outputs": [
        {
          "output_type": "stream",
          "name": "stdout",
          "text": [
            "\"I'm enjoying this workshop!\""
          ]
        }
      ],
      "execution_count": 19,
      "source": [
        "!cat solutions/01_03.py"
      ]
    },
    {
      "metadata": {
        "id": "aaj9vRJz0Mao",
        "outputId": "39f84a78-889b-4af4-ca82-6326ca757014",
        "colab": {
          "base_uri": "https://localhost:8080/",
          "height": 35
        }
      },
      "cell_type": "code",
      "outputs": [
        {
          "output_type": "execute_result",
          "data": {
            "text/plain": [
              "'I\"m enjoying the workshop!'"
            ],
            "application/vnd.google.colaboratory.intrinsic+json": {
              "type": "string"
            }
          },
          "metadata": {},
          "execution_count": 22
        }
      ],
      "execution_count": 22,
      "source": [
        "# single quotes\n",
        "'I'm enjoying the workshop!'"
      ]
    },
    {
      "metadata": {
        "id": "R0-X2Tii0Mao",
        "outputId": "35b39620-6558-47e7-dd4b-79704d0f5e09",
        "colab": {
          "base_uri": "https://localhost:8080/"
        }
      },
      "cell_type": "code",
      "outputs": [
        {
          "output_type": "stream",
          "name": "stdout",
          "text": [
            "'I'm enjoying this workshop!'"
          ]
        }
      ],
      "execution_count": 21,
      "source": [
        "!cat solutions/01_04.py"
      ]
    },
    {
      "metadata": {
        "id": "upKGdZAn0Mao"
      },
      "cell_type": "markdown",
      "source": [
        "**Oh no, an error!** Errors are nothing to be afraid of. Think of them as friendly messages trying to help you understand what's gone wrong. Here's how to read this:\n",
        "- Read errors backwards, so start at the bottom! It's a \"SyntaxError\" which means there's something wrong with our Python code.\n",
        "- There's a tiny arrow `^` pointing to what went wrong. Something near the m of `I'm`\n",
        "- On the top line, it says the error was on \"line 2\". This is often helpful when trying to fix (or \"debug\") broken code.\n",
        "\n",
        "**It turns out, if you want to use single quotes inside single quotes, you need to \"escape\" the quote with a backslash ( \\\\ ).**\n",
        "\n",
        ">Let's try that!"
      ]
    },
    {
      "metadata": {
        "id": "zib6NJgr0Mao"
      },
      "cell_type": "code",
      "outputs": [],
      "execution_count": null,
      "source": [
        "# single quotes, second try\n"
      ]
    },
    {
      "metadata": {
        "id": "i7PHWx0x0Mao"
      },
      "cell_type": "code",
      "outputs": [],
      "execution_count": null,
      "source": [
        "# !cat solutions/01_05.py"
      ]
    },
    {
      "metadata": {
        "id": "G_9wyRiO0Mao"
      },
      "cell_type": "markdown",
      "source": [
        "As mentioned before, Python tries to handle everything as intuitively as possible. That means strings can be added together."
      ]
    },
    {
      "metadata": {
        "id": "psKrHQaA0Map"
      },
      "cell_type": "code",
      "outputs": [],
      "execution_count": null,
      "source": [
        "'We are ' + 'everywhere around the world.'"
      ]
    },
    {
      "metadata": {
        "id": "-1Zgva6k0Map"
      },
      "cell_type": "markdown",
      "source": [
        "Also, strings can even be multiplied by a number."
      ]
    },
    {
      "metadata": {
        "id": "uZz4tkfh0Map"
      },
      "cell_type": "code",
      "outputs": [],
      "execution_count": null,
      "source": [
        "'Great! 🎉' * 3"
      ]
    },
    {
      "metadata": {
        "id": "hGh_irWA0Map"
      },
      "cell_type": "code",
      "outputs": [],
      "execution_count": null,
      "source": [
        "'😂' * 50"
      ]
    },
    {
      "metadata": {
        "id": "mjUh-Ed70Map"
      },
      "cell_type": "markdown",
      "source": [
        "We can access parts of strings by slicing the string. A character of a string (which is considered as a string of length 1 by Python) using slice, and a substring using slice range. Something important to note:\n",
        "\n",
        "**!!! Like birthdays, Python starts counting from 0! (It is \"zero-indexed\")**\n",
        "\n",
        "(If you're interested why, here's a historical [letter from Dijkstra](https://www.cs.utexas.edu/users/EWD/transcriptions/EWD08xx/EWD831.html) about it.)"
      ]
    },
    {
      "metadata": {
        "id": "guF-00uG0Map"
      },
      "cell_type": "markdown",
      "source": [
        "![image.png](attachment:image.png)"
      ]
    },
    {
      "metadata": {
        "id": "YdQgbfhX0MbJ"
      },
      "cell_type": "code",
      "outputs": [],
      "execution_count": null,
      "source": [
        "s = 'I am a Pythonista.'"
      ]
    },
    {
      "metadata": {
        "id": "l4i_gkLB0MbK"
      },
      "cell_type": "markdown",
      "source": [
        "***Slice***  \n",
        "We can access characters of a string by referencing the position (\"index\") numbers within square brackets."
      ]
    },
    {
      "metadata": {
        "id": "P1kxWZw_0MbL"
      },
      "cell_type": "code",
      "outputs": [],
      "execution_count": null,
      "source": [
        "# Selecting the first character of the string s\n",
        "s[0]"
      ]
    },
    {
      "metadata": {
        "id": "RPXHcWe-0MbM"
      },
      "cell_type": "markdown",
      "source": [
        "> Select the last character of the string s"
      ]
    },
    {
      "metadata": {
        "id": "2KkFwZUB0MbN"
      },
      "cell_type": "code",
      "outputs": [],
      "execution_count": null,
      "source": []
    },
    {
      "metadata": {
        "id": "5z9xgvaJ0MbO"
      },
      "cell_type": "code",
      "outputs": [],
      "execution_count": null,
      "source": [
        "# !cat solutions/01_06.py"
      ]
    },
    {
      "metadata": {
        "id": "zrbhR97Q0MbP"
      },
      "cell_type": "markdown",
      "source": [
        "***Slice range***  \n",
        "We can get a range of characters of a string by using a slicing range."
      ]
    },
    {
      "metadata": {
        "id": "U6mAsVdv0MbQ"
      },
      "cell_type": "code",
      "outputs": [],
      "execution_count": null,
      "source": [
        "# Select from position 2 up to but not including position 6 of the string s\n",
        "s[2:6]  # 6 is excluded"
      ]
    },
    {
      "metadata": {
        "id": "LcKL3hnM0MbR"
      },
      "cell_type": "markdown",
      "source": [
        "We can skip the start (resp. stop) number `s[:6]`. Then it start form index 0 (resp. end at the highest index)."
      ]
    },
    {
      "metadata": {
        "id": "ZK5fZrwD0MbS"
      },
      "cell_type": "markdown",
      "source": [
        ">Select the last 3 characters of the string s"
      ]
    },
    {
      "metadata": {
        "id": "XZvjQLKd0MbS"
      },
      "cell_type": "code",
      "outputs": [],
      "execution_count": null,
      "source": []
    },
    {
      "metadata": {
        "id": "JDKRbOgX0MbS"
      },
      "cell_type": "code",
      "outputs": [],
      "execution_count": null,
      "source": [
        "# !cat solutions/01_07.py"
      ]
    },
    {
      "metadata": {
        "id": "3RomxWL_0MbS"
      },
      "cell_type": "markdown",
      "source": [
        "We can check if a string contains another string inside of it (a \"substring\"), using *in* and *not in*.\n",
        "\n",
        "**!!! Python is case-sensitive! The string `'a'` is not equal to `'A'`***"
      ]
    },
    {
      "metadata": {
        "id": "UYbCTBaF0MbT"
      },
      "cell_type": "code",
      "outputs": [],
      "execution_count": null,
      "source": [
        "# Checking if s contains 'python'\n",
        "print(s)\n",
        "'python' in s"
      ]
    },
    {
      "metadata": {
        "id": "H1b3MgRI0MbT"
      },
      "cell_type": "markdown",
      "source": [
        "> Check if s does not contain 'I' (capital i)"
      ]
    },
    {
      "metadata": {
        "id": "buHZZAxe0MbU"
      },
      "cell_type": "code",
      "outputs": [],
      "execution_count": null,
      "source": []
    },
    {
      "metadata": {
        "id": "T2Whbexm0MbU"
      },
      "cell_type": "code",
      "outputs": [],
      "execution_count": null,
      "source": [
        "# !cat solutions/01_08.py"
      ]
    },
    {
      "metadata": {
        "id": "Ik5LdygM0MbV"
      },
      "cell_type": "markdown",
      "source": [
        "---\n",
        "\n",
        "<div class=\"alert alert-block alert-warning\" style=\"padding: 0px; padding-left: 20px; padding-top: 5px;\"><h2 style=\"color: #301E40\">\n",
        "Numbers\n",
        "</h2><br>\n",
        "</div>"
      ]
    },
    {
      "metadata": {
        "id": "2xa6TAmA0MbV"
      },
      "cell_type": "markdown",
      "source": [
        "Python has different numerical types. Two of which are used more often than others:\n",
        "- **Integers:** These are whole numbers, i.e. `1`, `2`, `-5`\n",
        "- **Floats:** \"Floating point\" numbers are those with a decimal point, i.e. `3.14158`, `2.5`, `0.1` and even `3.0`.\n",
        "\n",
        "Python attempts to deal with these numbers intuitively when integers and floats are mixed."
      ]
    },
    {
      "metadata": {
        "id": "M3hOxbK40MbV"
      },
      "cell_type": "markdown",
      "source": [
        "### Basic Operators"
      ]
    },
    {
      "metadata": {
        "id": "bcDi1EDk0MbW"
      },
      "cell_type": "markdown",
      "source": [
        "**Addition:**  \n",
        ">Try adding two numbers."
      ]
    },
    {
      "metadata": {
        "id": "Ao_K9Re80MbW"
      },
      "cell_type": "code",
      "outputs": [],
      "execution_count": null,
      "source": []
    },
    {
      "metadata": {
        "id": "teMDCXX80MbX"
      },
      "cell_type": "code",
      "outputs": [],
      "execution_count": null,
      "source": [
        "# !cat solutions/01_09.py"
      ]
    },
    {
      "metadata": {
        "id": "sPx166Yd0MbY"
      },
      "cell_type": "markdown",
      "source": [
        "**Subtraction:**\n",
        "> Try subtracting two numbers."
      ]
    },
    {
      "metadata": {
        "id": "zgiki_VF0MbY"
      },
      "cell_type": "code",
      "outputs": [],
      "execution_count": null,
      "source": []
    },
    {
      "metadata": {
        "id": "fOqsm0et0MbY"
      },
      "cell_type": "code",
      "outputs": [],
      "execution_count": null,
      "source": [
        "# !cat solutions/01_10.py"
      ]
    },
    {
      "metadata": {
        "id": "BRzaRBed0MbZ"
      },
      "cell_type": "markdown",
      "source": [
        "**Multiplication:**  \n",
        "The sign for multiplication is *.  \n",
        ">Try multiplying two numbers."
      ]
    },
    {
      "metadata": {
        "id": "scVeQ1hD0MbZ"
      },
      "cell_type": "code",
      "outputs": [],
      "execution_count": null,
      "source": []
    },
    {
      "metadata": {
        "id": "eUpGiSmI0Mba"
      },
      "cell_type": "code",
      "outputs": [],
      "execution_count": null,
      "source": [
        "# !cat solutions/01_11.py"
      ]
    },
    {
      "metadata": {
        "id": "fFyf-Uvl0Mba"
      },
      "cell_type": "markdown",
      "source": [
        "**Exponent:**  \n",
        "The sign for exponent (or power) is *`**`*.\n",
        "\n",
        "> Try the power of an integer."
      ]
    },
    {
      "metadata": {
        "id": "ZfuPN66Z0Mba"
      },
      "cell_type": "code",
      "outputs": [],
      "execution_count": null,
      "source": []
    },
    {
      "metadata": {
        "id": "p3y03G4L0Mba"
      },
      "cell_type": "code",
      "outputs": [],
      "execution_count": null,
      "source": [
        "# !cat solutions/01_12.py"
      ]
    },
    {
      "metadata": {
        "id": "gTvQqEJR0Mba"
      },
      "cell_type": "markdown",
      "source": [
        ">Try the power of a float"
      ]
    },
    {
      "metadata": {
        "id": "dohokyOg0Mba"
      },
      "cell_type": "code",
      "outputs": [],
      "execution_count": null,
      "source": []
    },
    {
      "metadata": {
        "id": "IKKWVa3l0Mba"
      },
      "cell_type": "code",
      "outputs": [],
      "execution_count": null,
      "source": [
        "# !cat solutions/01_13.py"
      ]
    },
    {
      "metadata": {
        "id": "j5b96wzL0Mba"
      },
      "cell_type": "markdown",
      "source": [
        ">Try the power of an integer written as a float (e.g. 12.0)"
      ]
    },
    {
      "metadata": {
        "id": "Owyd6q0k0Mbb"
      },
      "cell_type": "code",
      "outputs": [],
      "execution_count": null,
      "source": []
    },
    {
      "metadata": {
        "id": "GJEwtLqP0Mbb"
      },
      "cell_type": "code",
      "outputs": [],
      "execution_count": null,
      "source": [
        "# !cat solutions/01_14.py"
      ]
    },
    {
      "metadata": {
        "id": "VWyduflo0Mbb"
      },
      "cell_type": "markdown",
      "source": [
        "**Division and modulo**\n",
        "- The sign for division is **`/`**.\n",
        "- The sign for floor division is **`//`**. It returns the \"quotient\" of a division - how many times one number goes into another. (\"If a carton holds six eggs, and we have 99 eggs, how many cartons can we fill?\")\n",
        "- The **`%`** sign is the [modulo](https://en.wikipedia.org/wiki/Modulo_operation), which returns the \"remainder\" after division."
      ]
    },
    {
      "metadata": {
        "id": "-ZpkT2570Mbb"
      },
      "cell_type": "markdown",
      "source": [
        ">Divide 6 by 2"
      ]
    },
    {
      "metadata": {
        "id": "D1r6pw0p0Mbb"
      },
      "cell_type": "code",
      "outputs": [],
      "execution_count": null,
      "source": []
    },
    {
      "metadata": {
        "id": "cX6W6gB30Mbb"
      },
      "cell_type": "code",
      "outputs": [],
      "execution_count": null,
      "source": [
        "# !cat solutions/01_15.py"
      ]
    },
    {
      "metadata": {
        "id": "VoU744wU0Mbc"
      },
      "cell_type": "markdown",
      "source": [
        ">Try the floor division of 6 by 2"
      ]
    },
    {
      "metadata": {
        "id": "LTlkyeAk0Mbc"
      },
      "cell_type": "code",
      "outputs": [],
      "execution_count": null,
      "source": []
    },
    {
      "metadata": {
        "id": "lvaMfTh20Mbc"
      },
      "cell_type": "code",
      "outputs": [],
      "execution_count": null,
      "source": [
        "# !cat solutions/01_16.py"
      ]
    },
    {
      "metadata": {
        "id": "_VBUbpAv0Mbc"
      },
      "cell_type": "markdown",
      "source": [
        ">Divide 19 by 5"
      ]
    },
    {
      "metadata": {
        "id": "1fikfBVo0Mbc"
      },
      "cell_type": "code",
      "outputs": [],
      "execution_count": null,
      "source": []
    },
    {
      "metadata": {
        "id": "JezNZsqc0Mbc"
      },
      "cell_type": "code",
      "outputs": [],
      "execution_count": null,
      "source": [
        "# !cat solutions/01_17.py"
      ]
    },
    {
      "metadata": {
        "id": "geI1SGvW0Mbd"
      },
      "cell_type": "markdown",
      "source": [
        "*Note*: division returns a float."
      ]
    },
    {
      "metadata": {
        "id": "DEtYoa1z0Mbd"
      },
      "cell_type": "markdown",
      "source": [
        "**The floor division returns an int, the non-fractional part.**  \n",
        ">Try the floor division of 19 by 5"
      ]
    },
    {
      "metadata": {
        "id": "MjXllZ9C0Mbe"
      },
      "cell_type": "code",
      "outputs": [],
      "execution_count": null,
      "source": []
    },
    {
      "metadata": {
        "id": "p8ZTjNLL0Mbe"
      },
      "cell_type": "code",
      "outputs": [],
      "execution_count": null,
      "source": [
        "# !cat solutions/01_18.py"
      ]
    },
    {
      "metadata": {
        "id": "mseJ6TrR0Mbe"
      },
      "cell_type": "markdown",
      "source": [
        "**Modulo returns the remainder of the division**"
      ]
    },
    {
      "metadata": {
        "id": "rmnlSbEg0Mbe"
      },
      "cell_type": "markdown",
      "source": [
        ">Calculate 19 modulo 5"
      ]
    },
    {
      "metadata": {
        "id": "PDJuIPOi0Mbf"
      },
      "cell_type": "code",
      "outputs": [],
      "execution_count": null,
      "source": []
    },
    {
      "metadata": {
        "id": "5YBYn0-t0Mbf"
      },
      "cell_type": "code",
      "outputs": [],
      "execution_count": null,
      "source": [
        "# !cat solutions/01_19.py"
      ]
    },
    {
      "metadata": {
        "id": "8OQEmj4j0Mbf"
      },
      "cell_type": "markdown",
      "source": [
        "**--> 19 = 3 * 5 + 4**"
      ]
    },
    {
      "metadata": {
        "id": "acu3sdl_0Mbf"
      },
      "cell_type": "markdown",
      "source": [
        "---\n",
        "\n",
        "<div class=\"alert alert-block alert-warning\" style=\"padding: 0px; padding-left: 20px; padding-top: 5px;\"><h2 style=\"color: #301E40\">\n",
        "Order of operations\n",
        "</h2><br>\n",
        "</div>"
      ]
    },
    {
      "metadata": {
        "id": "Tdu57Sqt0Mbf"
      },
      "cell_type": "markdown",
      "source": [
        "The order of operations in Python respects the usual rules of mathematics (brackets -> powers -> division/multiplication -> add/subtract). **If in doubt, use brackets** to make it clear (to yourself, and anyone who might be reading your code) what you're trying to do."
      ]
    },
    {
      "metadata": {
        "id": "aW5K6Yd_0Mbg"
      },
      "cell_type": "code",
      "outputs": [],
      "execution_count": null,
      "source": [
        "5 + 6 * 10"
      ]
    },
    {
      "metadata": {
        "id": "KquoZNn10Mbg"
      },
      "cell_type": "code",
      "outputs": [],
      "execution_count": null,
      "source": [
        "(5 + 6) * 10"
      ]
    },
    {
      "metadata": {
        "id": "XNQBnIK_0Mbg"
      },
      "cell_type": "markdown",
      "source": [
        "---\n",
        "\n",
        "<div class=\"alert alert-block alert-warning\" style=\"padding: 0px; padding-left: 20px; padding-top: 5px;\"><h2 style=\"color: #301E40\">\n",
        "Booleans\n",
        "</h2><br>\n",
        "</div>"
      ]
    },
    {
      "metadata": {
        "id": "LGcHecMw0Mbg"
      },
      "cell_type": "markdown",
      "source": [
        "Booleans are the two constant values `True` and `False`. The numerical value of 'True is '1' and the numerical value of 'False' is '0'. These values are especially important for comparisons, therefore, we'll also learn about a new operator:\n",
        "\n",
        "**`==`** is an equality operator,  different from **`=`** which is the assignment operator you used to assign variables."
      ]
    },
    {
      "metadata": {
        "id": "NtXmY5C70Mbh"
      },
      "cell_type": "code",
      "outputs": [],
      "execution_count": null,
      "source": [
        "True == 1  # '==' is an equality operator,  different from '=' which is an assignment operator"
      ]
    },
    {
      "metadata": {
        "id": "Al9_X3WC0Mbh"
      },
      "cell_type": "code",
      "outputs": [],
      "execution_count": null,
      "source": [
        "False * 3"
      ]
    },
    {
      "metadata": {
        "id": "vXTIeeaC0Mbh"
      },
      "cell_type": "markdown",
      "source": [
        "Using **`!=`** , check if `False` is not equal to `2`."
      ]
    },
    {
      "metadata": {
        "id": "n56WNSCh0Mbi"
      },
      "cell_type": "code",
      "outputs": [],
      "execution_count": null,
      "source": []
    },
    {
      "metadata": {
        "id": "8x1r1r2s0Mbi"
      },
      "cell_type": "code",
      "outputs": [],
      "execution_count": null,
      "source": [
        "# !cat solutions/01_20.py"
      ]
    },
    {
      "metadata": {
        "id": "U4RxAgAu0Mbi"
      },
      "cell_type": "markdown",
      "source": [
        ">Check if the length of your name is greater than 8."
      ]
    },
    {
      "metadata": {
        "id": "mjSrtBXg0Mbi"
      },
      "cell_type": "code",
      "outputs": [],
      "execution_count": null,
      "source": []
    },
    {
      "metadata": {
        "id": "9WrAWdcO0Mbi"
      },
      "cell_type": "code",
      "outputs": [],
      "execution_count": null,
      "source": [
        "# !cat solutions/01_21.py"
      ]
    },
    {
      "metadata": {
        "id": "TOD8gLfe0Mbi"
      },
      "cell_type": "markdown",
      "source": [
        "We can use `and` and `or` operators with booleans in Python. Type them below and see how the color of the text changes, because Python recognises the keyword! These can be used to chain together multiple comparisons. These follow mathematical logic.\n",
        "\n",
        "| A     | B     | A and B | A or B |\n",
        "| :---  | :---  | :---    | :---   |\n",
        "| True  | True  | True    | True   |\n",
        "| True  | False | False   | True   |\n",
        "| False | True  | False   | True   |\n",
        "| False | False | False   | False  |\n",
        "\n",
        "> Check if the length of your name is greater than 5 and the length of your mentor's name is less than 7."
      ]
    },
    {
      "metadata": {
        "id": "hHmwY9kn0Mbj"
      },
      "cell_type": "code",
      "outputs": [],
      "execution_count": null,
      "source": []
    },
    {
      "metadata": {
        "id": "jVMtoEKy0Mbj"
      },
      "cell_type": "code",
      "outputs": [],
      "execution_count": null,
      "source": [
        "# !cat solutions/01_22.py"
      ]
    },
    {
      "metadata": {
        "id": "qAPmDxKH0Mbj"
      },
      "cell_type": "markdown",
      "source": [
        "---\n",
        "\n",
        "<div class=\"alert alert-block alert-warning\" style=\"padding: 0px; padding-left: 20px; padding-top: 5px;\"><h2 style=\"color: #301E40\">\n",
        "Lists\n",
        "</h2><br>\n",
        "</div>"
      ]
    },
    {
      "metadata": {
        "id": "igP1j9u-0Mbj"
      },
      "cell_type": "markdown",
      "source": [
        "A list is a list of comma-separated values between square brackets.\n",
        "\n",
        "The items of a list can have different types."
      ]
    },
    {
      "metadata": {
        "id": "1ml57EFs0Mbj"
      },
      "cell_type": "code",
      "outputs": [],
      "execution_count": null,
      "source": [
        "list_greeting = ['Hallo', 'Bonjour', 10, 'Hello', 'Ciao', False]"
      ]
    },
    {
      "metadata": {
        "id": "BhtYvteh0Mbj"
      },
      "cell_type": "markdown",
      "source": [
        "We can access a single value using a slice, and several values using slice range. Check the \"string slicing\" section above for this."
      ]
    },
    {
      "metadata": {
        "id": "A1A4FWK70Mbj"
      },
      "cell_type": "markdown",
      "source": [
        ">Get the first item of the list."
      ]
    },
    {
      "metadata": {
        "id": "M8VL5jzF0Mbj"
      },
      "cell_type": "code",
      "outputs": [],
      "execution_count": null,
      "source": []
    },
    {
      "metadata": {
        "id": "elUW67zq0Mbj"
      },
      "cell_type": "code",
      "outputs": [],
      "execution_count": null,
      "source": [
        "# !cat solutions/01_23.py"
      ]
    },
    {
      "metadata": {
        "id": "MLMN1Lqo0Mbj"
      },
      "cell_type": "markdown",
      "source": [
        "Get every the items from the list, starting with the 4th one.\n",
        "\n",
        "Note that there is no need to put a number after the colon when when want to select until the end of the list."
      ]
    },
    {
      "metadata": {
        "id": "7El8I_590Mbk"
      },
      "cell_type": "markdown",
      "source": [
        ">Get the items starting with the one with index 3 until the end of the list."
      ]
    },
    {
      "metadata": {
        "id": "2OBT12wZ0Mbk"
      },
      "cell_type": "code",
      "outputs": [],
      "execution_count": null,
      "source": []
    },
    {
      "metadata": {
        "id": "yqBA81Rs0Mbk"
      },
      "cell_type": "code",
      "outputs": [],
      "execution_count": null,
      "source": [
        "# !cat solutions/01_24.py"
      ]
    },
    {
      "metadata": {
        "id": "ddnoKFrT0Mbk"
      },
      "cell_type": "markdown",
      "source": [
        "**Get the items from the list until the 4th one.**"
      ]
    },
    {
      "metadata": {
        "id": "Oo2lQrR40Mbk"
      },
      "cell_type": "markdown",
      "source": [
        ">Get the items from the beginning of the list until the value with index 4 (index 4 is excluded)."
      ]
    },
    {
      "metadata": {
        "id": "Fp8DJW4Z0Mbk"
      },
      "cell_type": "code",
      "outputs": [],
      "execution_count": null,
      "source": []
    },
    {
      "metadata": {
        "id": "6pI0B7Qt0Mbl"
      },
      "cell_type": "code",
      "outputs": [],
      "execution_count": null,
      "source": [
        "# !cat solutions/01_25.py"
      ]
    },
    {
      "metadata": {
        "id": "qiw-fInQ0Mbl"
      },
      "cell_type": "markdown",
      "source": [
        "**Advanced slicing allows us to set how the list's index will increment between the start/stop indexes we select.**  \n",
        "The slicing then looks like this: [start:stop:step]  \n",
        "For example, if we want to select every third items of a list, we will set the step as 3."
      ]
    },
    {
      "metadata": {
        "id": "I6DF8vOq0Mbl"
      },
      "cell_type": "markdown",
      "source": [
        ">Get every other items from the list of greetings"
      ]
    },
    {
      "metadata": {
        "id": "wIJUX9PE0Mbl"
      },
      "cell_type": "code",
      "outputs": [],
      "execution_count": null,
      "source": []
    },
    {
      "metadata": {
        "id": "KqJcz6WQ0Mbl"
      },
      "cell_type": "code",
      "outputs": [],
      "execution_count": null,
      "source": [
        "# !cat solutions/01_26.py"
      ]
    },
    {
      "metadata": {
        "id": "GwOqrM4a0Mbm"
      },
      "cell_type": "markdown",
      "source": [
        "**We can update a list by re-assigning a value selected using a slice.**  \n",
        "For example, we can replace False with 'Ave' in list_greeting."
      ]
    },
    {
      "metadata": {
        "id": "S452EaQh0Mbm"
      },
      "cell_type": "code",
      "outputs": [],
      "execution_count": null,
      "source": [
        "list_greeting[-1] = 'Ave'\n",
        "print(list_greeting)"
      ]
    },
    {
      "metadata": {
        "id": "7mqaO9vP0Mbm"
      },
      "cell_type": "markdown",
      "source": [
        ">Replace 10 with Hola in list_greetings, then print list_greeting to check it."
      ]
    },
    {
      "metadata": {
        "id": "FyFg1YfD0Mbm"
      },
      "cell_type": "code",
      "outputs": [],
      "execution_count": null,
      "source": []
    },
    {
      "metadata": {
        "id": "Tc_MOOqD0Mbn"
      },
      "cell_type": "code",
      "outputs": [],
      "execution_count": null,
      "source": [
        "# !cat solutions/01_27.py"
      ]
    },
    {
      "metadata": {
        "id": "FiX3Iv4B0Mbn"
      },
      "cell_type": "markdown",
      "source": [
        "We can have lists inside a list, these are often called \"nested lists\":"
      ]
    },
    {
      "metadata": {
        "id": "o5XdHLdU0Mbn"
      },
      "cell_type": "code",
      "outputs": [],
      "execution_count": null,
      "source": [
        "list_of_lists = [[1, 2, 3], [4, 5]]"
      ]
    },
    {
      "metadata": {
        "id": "wsJwLwG70Mbo"
      },
      "cell_type": "code",
      "outputs": [],
      "execution_count": null,
      "source": [
        "list_of_lists[0]  # access the first element of the list, which is a list."
      ]
    },
    {
      "metadata": {
        "id": "GYKN_Z-50Mbp"
      },
      "cell_type": "code",
      "outputs": [],
      "execution_count": null,
      "source": [
        "list_of_lists[0][-1]  # access the last element of the first list."
      ]
    },
    {
      "metadata": {
        "id": "RJ-OHamV0Mbp"
      },
      "cell_type": "markdown",
      "source": [
        "We can concatenate lists using ' + '."
      ]
    },
    {
      "metadata": {
        "id": "39zWP0p20Mbp"
      },
      "cell_type": "code",
      "outputs": [],
      "execution_count": null,
      "source": [
        "[1, 2, 3] + [4, 5, 6]"
      ]
    },
    {
      "metadata": {
        "id": "pjpmzj2R0Mbq"
      },
      "cell_type": "markdown",
      "source": [
        "We can also use the multiplication to repeat values in a list (only works with integers)."
      ]
    },
    {
      "metadata": {
        "id": "c7ztJaMd0Mbq"
      },
      "cell_type": "code",
      "outputs": [],
      "execution_count": null,
      "source": [
        "['Hey'] * 5"
      ]
    },
    {
      "metadata": {
        "id": "CPshA-li0Mbq"
      },
      "cell_type": "markdown",
      "source": [
        "We can also use `in` / `not in` with lists."
      ]
    },
    {
      "metadata": {
        "id": "s5exLley0Mbq"
      },
      "cell_type": "markdown",
      "source": [
        ">Check if `10` is in `list_greeting`."
      ]
    },
    {
      "metadata": {
        "id": "7QuaM7580Mbr"
      },
      "cell_type": "code",
      "outputs": [],
      "execution_count": null,
      "source": []
    },
    {
      "metadata": {
        "id": "tWq3lDC00Mbr"
      },
      "cell_type": "code",
      "outputs": [],
      "execution_count": null,
      "source": [
        "# !cat solutions/01_28.py"
      ]
    },
    {
      "metadata": {
        "id": "N807WkC80Mbr"
      },
      "cell_type": "markdown",
      "source": [
        ">Check if 'Ole' is not in list_greeting."
      ]
    },
    {
      "metadata": {
        "id": "Y7XiLbAi0Mbr"
      },
      "cell_type": "code",
      "outputs": [],
      "execution_count": null,
      "source": []
    },
    {
      "metadata": {
        "id": "KSXcdRXL0Mbs"
      },
      "cell_type": "code",
      "outputs": [],
      "execution_count": null,
      "source": [
        "# !cat solutions/01_29.py"
      ]
    },
    {
      "metadata": {
        "id": "68gGZQs90Mbs"
      },
      "cell_type": "markdown",
      "source": [
        "---\n",
        "\n",
        "<div class=\"alert alert-block alert-warning\" style=\"padding: 0px; padding-left: 20px; padding-top: 5px;\"><h2 style=\"color: #301E40\">\n",
        "Built-in functions\n",
        "</h2><br>\n",
        "</div>"
      ]
    },
    {
      "metadata": {
        "id": "kLt7TB-g0Mbs"
      },
      "cell_type": "markdown",
      "source": [
        "You've seen your first function at the very beginning of this notebook, i.e. `print(\"Hello World\")`. Functions are a way for you to write reusable code. In the case before `print()` is Python's way for you to show an output you provide. However, there are many other useful functions that Python comes with, that are provided by other libraries, or written by you yourself to save you from repeating some code.\n",
        "\n",
        "The functions that are always available in Python can be found here:\n",
        "https://docs.python.org/3/library/functions.html"
      ]
    },
    {
      "metadata": {
        "id": "pN2mCUVq0Mbs"
      },
      "cell_type": "markdown",
      "source": [
        ">Print *'Here we are!'*."
      ]
    },
    {
      "metadata": {
        "id": "dO1fPMG-0Mbs"
      },
      "cell_type": "code",
      "outputs": [],
      "execution_count": null,
      "source": []
    },
    {
      "metadata": {
        "id": "e09DdHNv0Mbs"
      },
      "cell_type": "code",
      "outputs": [],
      "execution_count": null,
      "source": [
        "# !cat solutions/01_30.py"
      ]
    },
    {
      "metadata": {
        "id": "9nGO2LbF0Mbt"
      },
      "cell_type": "markdown",
      "source": [
        ">Compute the length of the string variable `snakes`."
      ]
    },
    {
      "metadata": {
        "id": "MHX8HYea0Mbt"
      },
      "cell_type": "code",
      "outputs": [],
      "execution_count": null,
      "source": [
        "snakes = \"🐍🐍🐍🐍🐍🐍🐍🐍🐍🐍🐍🐍🐍🐍🐍🐍🐍🐍🐍🐍🐍🐍🐍🐍🐍🐍🐍🐍🐍🐍🐍🐍🐍🐍🐍🐍🐍🐍🐍🐍🐍🐍\""
      ]
    },
    {
      "metadata": {
        "id": "mb1kyJ5B0Mbt"
      },
      "cell_type": "code",
      "outputs": [],
      "execution_count": null,
      "source": []
    },
    {
      "metadata": {
        "id": "lYGVlLWU0Mbt"
      },
      "cell_type": "code",
      "outputs": [],
      "execution_count": null,
      "source": [
        "# !cat solutions/01_31.py"
      ]
    },
    {
      "metadata": {
        "id": "yejPuzwh0Mbt"
      },
      "cell_type": "markdown",
      "source": [
        ">Compute the length of list_greeting."
      ]
    },
    {
      "metadata": {
        "id": "V-7I95n50Mbt"
      },
      "cell_type": "code",
      "outputs": [],
      "execution_count": null,
      "source": []
    },
    {
      "metadata": {
        "id": "rq5jIhYh0Mbu"
      },
      "cell_type": "code",
      "outputs": [],
      "execution_count": null,
      "source": [
        "# !cat solutions/01_32.py"
      ]
    },
    {
      "metadata": {
        "id": "GrhGl-vR0Mbu"
      },
      "cell_type": "markdown",
      "source": [
        ">Work out the maximum of 1, 2, 3, 4 and 5."
      ]
    },
    {
      "metadata": {
        "id": "S_tyFI0F0Mbu"
      },
      "cell_type": "code",
      "outputs": [],
      "execution_count": null,
      "source": []
    },
    {
      "metadata": {
        "id": "h7D2ptuW0Mbu"
      },
      "cell_type": "code",
      "outputs": [],
      "execution_count": null,
      "source": [
        "# !cat solutions/01_33.py"
      ]
    },
    {
      "metadata": {
        "id": "694INalX0Mbu"
      },
      "cell_type": "markdown",
      "source": [
        ">Round the number 123.45 to the nearest integer."
      ]
    },
    {
      "metadata": {
        "id": "cJPhhVJP0Mb2"
      },
      "cell_type": "code",
      "outputs": [],
      "execution_count": null,
      "source": []
    },
    {
      "metadata": {
        "id": "qqzfRy8R0Mb3"
      },
      "cell_type": "code",
      "outputs": [],
      "execution_count": null,
      "source": [
        "# !cat solutions/01_34.py"
      ]
    },
    {
      "metadata": {
        "id": "wUUYoDG_0Mb4"
      },
      "cell_type": "markdown",
      "source": [
        ">Round the number 123.45 to 1 decimal place."
      ]
    },
    {
      "metadata": {
        "id": "pkDtdumh0Mb5"
      },
      "cell_type": "code",
      "outputs": [],
      "execution_count": null,
      "source": []
    },
    {
      "metadata": {
        "id": "73C_Ghc30Mb5"
      },
      "cell_type": "code",
      "outputs": [],
      "execution_count": null,
      "source": [
        "# !cat solutions/01_35.py"
      ]
    },
    {
      "metadata": {
        "id": "hw_hwp3J0Mb6"
      },
      "cell_type": "markdown",
      "source": [
        "---\n",
        "\n",
        "<div class=\"alert alert-block alert-warning\" style=\"padding: 0px; padding-left: 20px; padding-top: 5px;\"><h2 style=\"color: #301E40\">\n",
        "Methods\n",
        "</h2><br>\n",
        "</div>"
      ]
    },
    {
      "metadata": {
        "id": "B96rPK830Mb6"
      },
      "cell_type": "markdown",
      "source": [
        "A method is a function associated to an object. Basically, it provides a way for an object to know functions about themselves.\n",
        "\n",
        "For example, we can change the string `s` to upper case using the `.upper()` method."
      ]
    },
    {
      "metadata": {
        "id": "2sNOZsdZ0Mb6"
      },
      "cell_type": "code",
      "outputs": [],
      "execution_count": null,
      "source": [
        "s.upper()"
      ]
    },
    {
      "metadata": {
        "id": "rU6Kocrb0Mb6"
      },
      "cell_type": "markdown",
      "source": [
        ">Using the append method, add 'Aloha' to list_greeting."
      ]
    },
    {
      "metadata": {
        "id": "OhuP5aSj0Mb6"
      },
      "cell_type": "code",
      "outputs": [],
      "execution_count": null,
      "source": []
    },
    {
      "metadata": {
        "id": "mRxlEtkU0Mb6"
      },
      "cell_type": "code",
      "outputs": [],
      "execution_count": null,
      "source": [
        "# !cat solutions/01_36.py"
      ]
    },
    {
      "metadata": {
        "id": "-fEyHe9d0Mb6"
      },
      "cell_type": "markdown",
      "source": [
        "---\n",
        "\n",
        "<div class=\"alert alert-block alert-warning\" style=\"padding: 0px; padding-left: 20px; padding-top: 5px;\"><h2 style=\"color: #301E40\">\n",
        "Importing modules\n",
        "</h2><br>\n",
        "</div>"
      ]
    },
    {
      "metadata": {
        "id": "gCUNweT50Mb7"
      },
      "cell_type": "markdown",
      "source": [
        "We can import modules (Python code that can define functions, classes and variables).\n",
        "\n",
        "Usually, we write all the imports at the beginning of a Python program or notebook."
      ]
    },
    {
      "metadata": {
        "id": "wHoJH9o40Mb7"
      },
      "cell_type": "markdown",
      "source": [
        "**A small warning**  \n",
        "Ensure you trust the packages you're installing!\n",
        "\n",
        "Ask:\n",
        "1. Who wrote this code?\n",
        "2. Do I trust giving their code access to my computer?\n",
        "3. `pip install` especially can be a little more dangerous, anyone can upload something to the Python Package Index (\"PyPI\" for short), which is where `pip` installs from. So be very careful especially as the smallest typo can be a security risk!\n",
        "4. `conda install` is more of a walled garden and as such better positioned for enterprise usage."
      ]
    },
    {
      "metadata": {
        "id": "d3Sbnutr0Mb7"
      },
      "cell_type": "markdown",
      "source": [
        "> From the **math** library, import **sqrt** to work out the square root of **24 336**."
      ]
    },
    {
      "metadata": {
        "id": "NJl4DmMQ0Mb7"
      },
      "cell_type": "code",
      "outputs": [],
      "execution_count": null,
      "source": []
    },
    {
      "metadata": {
        "id": "HJsleelF0Mb7"
      },
      "cell_type": "code",
      "outputs": [],
      "execution_count": null,
      "source": [
        "# !cat solutions/01_37.py"
      ]
    },
    {
      "metadata": {
        "id": "86HGkoHt0Mb7"
      },
      "cell_type": "markdown",
      "source": [
        "Python programmers really are lazy! (Or obsessive about productivity, take your pick!)\n",
        "\n",
        "Hence, you can define aliases for imports. The `as np` is two characters long, whereas `numpy` is five. It's less to type, when you write long programs.\n",
        "\n",
        "> Import `numpy as np` and try **`np.sin(np.pi/4)`**."
      ]
    },
    {
      "metadata": {
        "id": "Y7eyIqYf0Mb7"
      },
      "cell_type": "code",
      "outputs": [],
      "execution_count": null,
      "source": []
    },
    {
      "metadata": {
        "id": "gbiwPFsb0Mb7"
      },
      "cell_type": "code",
      "outputs": [],
      "execution_count": null,
      "source": [
        "# !cat solutions/01_38.py"
      ]
    },
    {
      "cell_type": "markdown",
      "metadata": {
        "id": "Tvvai-jc0Mb7"
      },
      "source": [
        "---\n",
        "\n",
        "# 🎉 Congratulations, you made it to the end of Notebook 1! 🎉\n",
        "Take a well deserved break, brew a relaxing beverage of your choice or go have a snack, maybe share a picture of your snack/drink in the #random channel, we love to see pictures from everyone attending around the world. ☕️\n",
        "\n",
        "![](https://media0.giphy.com/media/3otPoS81loriI9sO8o/200.gif)\n"
      ]
    }
  ],
  "metadata": {
    "kernelspec": {
      "display_name": "Python (beginners-data-workshop)",
      "language": "python",
      "name": "beginners-data-workshop"
    },
    "language_info": {
      "codemirror_mode": {
        "name": "ipython",
        "version": 3
      },
      "file_extension": ".py",
      "mimetype": "text/x-python",
      "name": "python",
      "nbconvert_exporter": "python",
      "pygments_lexer": "ipython3",
      "version": "3.12.3"
    },
    "colab": {
      "provenance": []
    }
  },
  "nbformat": 4,
  "nbformat_minor": 0
}